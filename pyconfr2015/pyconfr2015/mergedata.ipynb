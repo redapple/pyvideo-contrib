{
 "cells": [
  {
   "cell_type": "code",
   "execution_count": 1,
   "metadata": {
    "collapsed": false
   },
   "outputs": [],
   "source": [
    "from datetime import datetime\n",
    "import json\n",
    "from pprint import pprint as pp\n",
    "import re\n",
    "\n",
    "from fuzzywuzzy import fuzz\n",
    "from prettytable import PrettyTable\n",
    "\n",
    "\n",
    "def duration_seconds(duration_string):\n",
    "    fmt = '%H:%M:%S'\n",
    "    delta = datetime.strptime(duration_string, fmt) \\\n",
    "            - datetime.strptime('00:00:00', fmt)\n",
    "    return delta.total_seconds()\n",
    "\n",
    "file_re = re.compile(r'Processing (.+)', re.I)\n",
    "duration_re = re.compile(r'Duration: ([\\d:]+)')\n",
    "def video_durations(filename):\n",
    "    with open(filename) as f:\n",
    "       lines = f.readlines()\n",
    "    durations = [{\"video_file\": file_re.search(lines[i]).group(1),\n",
    "                  \"duration\": duration_seconds(\n",
    "                        duration_re.search(lines[i+1]).group(1))}\n",
    "                  for i in xrange(0, len(lines), 3)]\n",
    "    return durations\n",
    "\n",
    "\n",
    "def talk_string(data):\n",
    "    return ' '.join((' '.join(data.get(\"speakers\")), data.get('title')))\n",
    "\n",
    "\n",
    "def print_matches(matches):\n",
    "    x = PrettyTable([\n",
    "        'Video title',\n",
    "        'Talk speakers',\n",
    "        'Talk title',\n",
    "        #'URL',\n",
    "        'Match ratio'])\n",
    "    x.align = 'l'\n",
    "    cutlimit = 48\n",
    "    for video, best_match, ratio in matches:\n",
    "            x.add_row([\n",
    "                video['title'][:cutlimit],\n",
    "                \"; \".join(best_match['speakers'])[:cutlimit],\n",
    "                best_match['title'][:cutlimit],\n",
    "                #video['videos'][0]['src'].replace('http://video-pyconfr2015.paulla.asso.fr/', ''),\n",
    "                ratio\n",
    "            ])\n",
    "    print x\n",
    "\n",
    "with open('talks.json') as t:\n",
    "    talks = json.load(t)\n",
    "\n",
    "with open('videos.json') as v:\n",
    "    videos = json.load(v)\n",
    "\n",
    "durations = video_durations('video_durations.txt')\n",
    "durations_dict = {d['video_file']: d['duration'] for d in durations}\n",
    "\n",
    "matches = []\n",
    "misses = []\n",
    "\n",
    "for video in videos:\n",
    "    current_talk = video['title']\n",
    "    ratios = []\n",
    "    for t in talks:\n",
    "        ratios.append((fuzz.ratio(current_talk, talk_string(t)), t))\n",
    "    best_ratio, best_match = max(ratios)\n",
    "    if best_ratio >= 80:\n",
    "        matches.append((video, best_match, best_ratio))\n",
    "    else:\n",
    "        misses.append(video)"
   ]
  },
  {
   "cell_type": "code",
   "execution_count": 2,
   "metadata": {
    "collapsed": false
   },
   "outputs": [],
   "source": [
    "def populate_video_urls(data, video, durations_dict):\n",
    "    vidurls = []\n",
    "    for v in video['videos']:\n",
    "        _, vidfmt = v['type'].split('/')\n",
    "        if vidfmt == 'ogg':\n",
    "            vidfmt = 'ogv'\n",
    "        data['video_{fmt}_url'.format(fmt=vidfmt)] = v['src']\n",
    "        vidurls.append(v['src'])\n",
    "\n",
    "    urlset = set(durations_dict.keys()) & set(vidurls)\n",
    "    if urlset and len(urlset)==1:\n",
    "        data['duration'] = int(durations_dict[urlset.pop()])\n",
    "        \n",
    "def merge_data(video, talk, durations_dict):\n",
    "    keys = [\n",
    "        # state\n",
    "        #1 - live\n",
    "        #2 - draft\n",
    "        'state',\n",
    "        \n",
    "        'title', #The title of the video.\n",
    "\n",
    "        # Short summary of the video formatted in Markdown.\n",
    "        # Should be no more than a single paragraph of a few sentences.\n",
    "        'summary', \n",
    "\n",
    "        # Longer description of the video in Markdown.\n",
    "        # Outlines, linked timecodes, etc would go here.\n",
    "        'description',\n",
    "\n",
    "        # List of tags.\n",
    "        'tags',\n",
    "\n",
    "        # The title of the category.\n",
    "        # The category must exist on the site.\n",
    "        # If it doesn’t exist, the API will waggle its finger at you. \n",
    "        'category',\n",
    "\n",
    "        # List of speaker names\n",
    "        # If you pass in speaker names and they don’t exist, the API will create them for you.\n",
    "        # If they do exist, the API will associate the video with the existing speaker objects. (Yay!)\n",
    "        'speakers', \n",
    "\n",
    "        # notes for quality issues (audio or video) in the video\n",
    "        'quality_notes',\n",
    "\n",
    "        # the primary language the video is in\n",
    "        'language',\n",
    "\n",
    "        # text for copyright/license--for now it's loose form.\n",
    "        # if null, use source video link.\n",
    "        'copyright_text',\n",
    "\n",
    "        # embed for flash player things\n",
    "        'embed', \n",
    "\n",
    "        # url for the thumbnail\n",
    "        'thumbnail_url',\n",
    "\n",
    "        # duration in seconds\n",
    "        'duration',\n",
    "\n",
    "\n",
    "        # these are downloadable urls\n",
    "        'video_ogv_length',\n",
    "        'video_ogv_url',\n",
    "        'video_ogv_download_only',\n",
    "        'video_mp4_length',\n",
    "        'video_mp4_url',\n",
    "        'video_mp4_download_only',\n",
    "        'video_webm_length',\n",
    "        'video_webm_url',\n",
    "        'video_webm_download_only',\n",
    "        'video_flv_length',\n",
    "        'video_flv_url',\n",
    "        'video_flv_download_only',\n",
    "\n",
    "        # source url in case we need to find things again\n",
    "        'source_url',\n",
    "\n",
    "        # whiteboard for editor notes\n",
    "        'whiteboard',\n",
    "\n",
    "        # when the video was originally recorded\n",
    "        'recorded',\n",
    "\n",
    "        # when the video was added to this site\n",
    "        'added',\n",
    "\n",
    "        # when the video metadata was last updated\n",
    "        'updated',\n",
    "\n",
    "        'slug',\n",
    "        ]\n",
    "    data = {\n",
    "        'state': 2,\n",
    "        'category': 'PyCon FR 2015',\n",
    "        'title': talk['title'],\n",
    "        'speakers': talk['speakers'],\n",
    "        'language': 'French',\n",
    "        'summary': talk['description_md'],\n",
    "        'description': talk['abstract_md'],\n",
    "        'thumbnail_url': video['video_thumbnail'],\n",
    "        'video_filename_tmp': video['title'],\n",
    "        'recorded': talk['date'][:10],\n",
    "        'source_url': video['page_url'],\n",
    "    }\n",
    "    populate_video_urls(data, video, durations_dict)\n",
    "    \n",
    "    return data"
   ]
  },
  {
   "cell_type": "code",
   "execution_count": 3,
   "metadata": {
    "collapsed": false
   },
   "outputs": [],
   "source": [
    "def write_data_json(data, output_dir):\n",
    "    filename = data.pop('video_filename_tmp')\n",
    "    filename = re.sub(r'[,\\': -]', '_', filename.encode('ascii', 'ignore'))\n",
    "    write_to = '{odir}/{filename}.json'.format(odir=output_dir, filename=filename)\n",
    "    print write_to\n",
    "    with open(write_to, 'w') as of:\n",
    "        json.dump(data, of)"
   ]
  },
  {
   "cell_type": "code",
   "execution_count": 4,
   "metadata": {
    "collapsed": false
   },
   "outputs": [],
   "source": [
    "merged_data = [merge_data(video, talk, durations_dict)\n",
    "               for video, talk, _ in matches]"
   ]
  },
  {
   "cell_type": "code",
   "execution_count": 5,
   "metadata": {
    "collapsed": false
   },
   "outputs": [],
   "source": [
    "for d in merged_data:\n",
    "    if d['title'] == u'The Art of Doing Nothing – Using profiling to speed up your code':\n",
    "        d['language'] = 'English'"
   ]
  },
  {
   "cell_type": "code",
   "execution_count": 6,
   "metadata": {
    "collapsed": false
   },
   "outputs": [
    {
     "name": "stdout",
     "output_type": "stream",
     "text": [
      "../pyconfr2015-steve/json//012___Boris_FELD___Micro_services_ksako.json\n",
      "../pyconfr2015-steve/json//011___Nicole_Harris___Learning_Python__Learning_French.json\n",
      "../pyconfr2015-steve/json//010___Guillaume_Ayoub___Du_site_dynamique_au_document_imprimable_en_Python.json\n",
      "../pyconfr2015-steve/json//009___Charlie_Clark___The_Art_of_Doing_Nothing___Using_profiling_to_speed_up_your_code.json\n",
      "../pyconfr2015-steve/json//008___serge_sans_paille___Plus_loin_que_la_mmoization___la_tabulation.json\n",
      "../pyconfr2015-steve/json//007___ebel_franck___Scapy__application__la_scurit.json\n",
      "../pyconfr2015-steve/json//006___Boris_FELD___from_Sync_to_to_Async_Python__a_AsyncIO_migration.json\n",
      "../pyconfr2015-steve/json//005___Feth_Arezki___Inventaire_des_spcificits_de_Python.json\n",
      "../pyconfr2015-steve/json//004___Alex_Marandon___Piges_et_bizarreries_de_(C)Python.json\n",
      "../pyconfr2015-steve/json//003___Alexis_Mtaireau__Mathieu_Leplatre__Rmy_Hubscher___Kinto__stocker__synchroniser_et_partager_ses_donnes_de_manire_gnrique.json\n",
      "../pyconfr2015-steve/json//002___Pierre_CHARLET___Dcouverte_de_Django.json\n",
      "../pyconfr2015-steve/json//001___Martin_Richard___Votre_appli_web_et_Python__de_zro_au_million_d_utilisateurs.json\n",
      "../pyconfr2015-steve/json//211___ric_LEMOINE___GeoAlchemy___le_go_compagnon_d_SQLAlchemy.json\n",
      "../pyconfr2015-steve/json//208___Michael_Scherer___Dploiement_d_applications_python_dans_un_monde_post_docker.json\n",
      "../pyconfr2015-steve/json//205___Olivier_Andr___Bokor__distribution_de_films_en_BitTorrent_et_hacking_python.json\n",
      "../pyconfr2015-steve/json//119___Yann_Gravrand___Visuellement_correct___tests_de_non_rgression_visuels_automatiss.json\n",
      "../pyconfr2015-steve/json//221___Michael_Scherer___Audit_de_scurit_d_application_python_avec_Bandit.json\n",
      "../pyconfr2015-steve/json//220___Boris_FELD___Mock_considered_harmful.json\n",
      "../pyconfr2015-steve/json//217___Christophe_de_Vienne___Pyramid_&_Cubicweb.json\n",
      "../pyconfr2015-steve/json//216___Yann_Vot___Importer_des_donnes_en_Python_avec_CubicWeb_3.21.json\n",
      "../pyconfr2015-steve/json//215___Alex_Marandon___Dmystifier_les_entres_sorties_asynchrones.json\n",
      "../pyconfr2015-steve/json//214___vincent_maillol___L_utilisation_des_mtaclasses.json\n",
      "../pyconfr2015-steve/json//213___Paul_TREMBERTH___XPath_for_web_scraping.json\n",
      "../pyconfr2015-steve/json//118___vincent_maillol___Utilisation_de_unittest.json\n",
      "../pyconfr2015-steve/json//117___Benot_Bryon___Healthchecks___des_tests_en_prod.json\n",
      "../pyconfr2015-steve/json//116___Arthur_Lutz___Marre_de_faire_du_C++_sur_une_Arduino_?_Faites_du_Python_avec_MicroPython_sur_une_PyBoard.json\n",
      "../pyconfr2015-steve/json//115___K.I.A_Derouiche___Pendule_mcanique__inertie__mouvements_de_robot__une_modlisation_de_la_mcanique_avec_SymPy.json\n",
      "../pyconfr2015-steve/json//114___Julien_Aupetit___Switch__ou_Se_jeter__l_eau_avec_PyQT.json\n",
      "../pyconfr2015-steve/json//112___Michael_Launay___Nova_Ideo__une_boite__ides_collaborative.json\n",
      "../pyconfr2015-steve/json//110___Cyril_Roelandt___Guix_tox__une_version_fonctionnelle_de_tox.json\n",
      "../pyconfr2015-steve/json//109___Matthieu_Huin__Fabien_Boucher___Optimiser_l_intgration_de_code_avec_Zuul.json\n",
      "../pyconfr2015-steve/json//108___Bruno_Bord___tox_est_amour.json\n",
      "../pyconfr2015-steve/json//107___Alexandre_Fayolle___Fonctionnement_de_l_Odoo_Community_Association.json\n",
      "../pyconfr2015-steve/json//106___Georges_Racinet___Anyblock.json\n",
      "../pyconfr2015-steve/json//105___Mike_BRIGHT___IPython_vers_Jupyter.json\n",
      "../pyconfr2015-steve/json//024___Benoit_Chesneau___Let_it_crash___Que_peut_apporter_Erlang__Python.json\n",
      "../pyconfr2015-steve/json//023___Charlie_Clark___When_generated_code_makes_sense.json\n",
      "../pyconfr2015-steve/json//022___serge_sans_paille__pierrick_brunet___We_don_t_need_your_loops.json\n",
      "../pyconfr2015-steve/json//021___Sbastien_Martinez__Alexandre_Manoury___Mise__jour__chaud_d_un_animal__sang_froid.json\n",
      "../pyconfr2015-steve/json//020___Olivier_Grisel___Construire_et_tester_des_wheels_sous_Linux__OSX_et_Windows.json\n",
      "../pyconfr2015-steve/json//019___Rodolphe_Quideville___SQL_Debug_avec_Django.json\n",
      "../pyconfr2015-steve/json//018___LEMAIRE_Arnaud___Des_boucles_aux_tranducersd.json\n",
      "../pyconfr2015-steve/json//017___Pierre_Yves_David___10_ans_d_astuce_et_d_abus__Mercurial_jongle_avec_Python.json\n",
      "../pyconfr2015-steve/json//016___Arthur_Vuillard___Crer_une_communaut_locale.json\n",
      "../pyconfr2015-steve/json//013___Mathieu_Leplatre__Alexis_Mtaireau__Rmy_Hubscher___Cliquet__un_toolkit_pour_construire_des_(micro)services.json\n"
     ]
    }
   ],
   "source": [
    "output_dir = '../pyconfr2015-steve/json/'\n",
    "for d in merged_data:\n",
    "    write_data_json(d, output_dir)"
   ]
  },
  {
   "cell_type": "code",
   "execution_count": 7,
   "metadata": {
    "collapsed": false
   },
   "outputs": [
    {
     "data": {
      "text/plain": [
       "[{u'page_url': u'http://video-pyconfr2015.paulla.asso.fr/113_-_Patrice_Journaud,_Florent_Aide_-_Python,_routing_et_TSP.html',\n",
       "  u'title': u'113 - Patrice Journaud, Florent Aide - Python, routing et TSP',\n",
       "  u'video_thumbnail': u'http://video-pyconfr2015.paulla.asso.fr/113%20-%20Patrice%20Journaud,%20Florent%20Aide%20-%20Python,%20routing%20et%20TSP.mp4.jpg',\n",
       "  u'videos': [{u'src': u'http://video-pyconfr2015.paulla.asso.fr/113%20-%20Patrice%20Journaud,%20Florent%20Aide%20-%20Python,%20routing%20et%20TSP.ogv',\n",
       "    u'type': u'video/ogg'},\n",
       "   {u'src': u'http://video-pyconfr2015.paulla.asso.fr/113%20-%20Patrice%20Journaud,%20Florent%20Aide%20-%20Python,%20routing%20et%20TSP.webm',\n",
       "    u'type': u'video/webm'},\n",
       "   {u'src': u'http://video-pyconfr2015.paulla.asso.fr/113%20-%20Patrice%20Journaud,%20Florent%20Aide%20-%20Python,%20routing%20et%20TSP.mp4',\n",
       "    u'type': u'video/mp4'}]},\n",
       " {u'page_url': u'http://video-pyconfr2015.paulla.asso.fr/015_-_AG_AFPy.html',\n",
       "  u'title': u'015 - AG AFPy',\n",
       "  u'video_thumbnail': u'http://video-pyconfr2015.paulla.asso.fr/015%20-%20AG%20AFPy.mp4.jpg',\n",
       "  u'videos': [{u'src': u'http://video-pyconfr2015.paulla.asso.fr/015%20-%20AG%20AFPy.ogv',\n",
       "    u'type': u'video/ogg'},\n",
       "   {u'src': u'http://video-pyconfr2015.paulla.asso.fr/015%20-%20AG%20AFPy.webm',\n",
       "    u'type': u'video/webm'},\n",
       "   {u'src': u'http://video-pyconfr2015.paulla.asso.fr/015%20-%20AG%20AFPy.mp4',\n",
       "    u'type': u'video/mp4'}]}]"
      ]
     },
     "execution_count": 7,
     "metadata": {},
     "output_type": "execute_result"
    }
   ],
   "source": [
    "misses"
   ]
  },
  {
   "cell_type": "code",
   "execution_count": 8,
   "metadata": {
    "collapsed": true
   },
   "outputs": [],
   "source": [
    "video113 = misses[0]"
   ]
  },
  {
   "cell_type": "code",
   "execution_count": 9,
   "metadata": {
    "collapsed": false
   },
   "outputs": [
    {
     "name": "stdout",
     "output_type": "stream",
     "text": [
      "{'category': 'PyCon FR 2015',\n",
      " 'duration': 1718,\n",
      " 'language': 'French',\n",
      " 'speakers': ['Patrice Journaud', 'Florent Aide'],\n",
      " 'state': 2,\n",
      " 'summary': 'Python, routing et TSP',\n",
      " 'title': 'Python, routing et TSP',\n",
      " 'video_filename_tmp': u'113 - Patrice Journaud, Florent Aide - Python, routing et TSP',\n",
      " 'video_mp4_url': u'http://video-pyconfr2015.paulla.asso.fr/113%20-%20Patrice%20Journaud,%20Florent%20Aide%20-%20Python,%20routing%20et%20TSP.mp4',\n",
      " 'video_ogv_url': u'http://video-pyconfr2015.paulla.asso.fr/113%20-%20Patrice%20Journaud,%20Florent%20Aide%20-%20Python,%20routing%20et%20TSP.ogv',\n",
      " 'video_webm_url': u'http://video-pyconfr2015.paulla.asso.fr/113%20-%20Patrice%20Journaud,%20Florent%20Aide%20-%20Python,%20routing%20et%20TSP.webm'}\n"
     ]
    }
   ],
   "source": [
    "video113_data = {\n",
    "    'state': 2,\n",
    "    'category': 'PyCon FR 2015',\n",
    "    'title': 'Python, routing et TSP',\n",
    "    'speakers': ['Patrice Journaud', 'Florent Aide'],\n",
    "    'language': 'French',\n",
    "    'summary': 'Python, routing et TSP',\n",
    "    'video_filename_tmp': video113['title']\n",
    "}\n",
    "populate_video_urls(video113_data, video113, durations_dict)\n",
    "pp(video113_data)"
   ]
  },
  {
   "cell_type": "code",
   "execution_count": 10,
   "metadata": {
    "collapsed": false
   },
   "outputs": [
    {
     "name": "stdout",
     "output_type": "stream",
     "text": [
      "../pyconfr2015-steve/json//113___Patrice_Journaud__Florent_Aide___Python__routing_et_TSP.json\n"
     ]
    }
   ],
   "source": [
    "write_data_json(video113_data, '../pyconfr2015-steve/json/')"
   ]
  },
  {
   "cell_type": "code",
   "execution_count": null,
   "metadata": {
    "collapsed": true
   },
   "outputs": [],
   "source": []
  }
 ],
 "metadata": {
  "kernelspec": {
   "display_name": "Python 2",
   "language": "python",
   "name": "python2"
  },
  "language_info": {
   "codemirror_mode": {
    "name": "ipython",
    "version": 2
   },
   "file_extension": ".py",
   "mimetype": "text/x-python",
   "name": "python",
   "nbconvert_exporter": "python",
   "pygments_lexer": "ipython2",
   "version": "2.7.10"
  }
 },
 "nbformat": 4,
 "nbformat_minor": 0
}
